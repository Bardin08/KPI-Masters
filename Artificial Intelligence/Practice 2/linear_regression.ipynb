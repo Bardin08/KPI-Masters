{
 "cells": [
  {
   "cell_type": "markdown",
   "metadata": {
    "id": "mxImKw1UhQl7"
   },
   "source": [
    "<a href=\"https://colab.research.google.com/github/YKochura/ai-lab/blob/main/linear-regression/linear_regression.ipynb\" target=\"_parent\"><img src=\"https://colab.research.google.com/assets/colab-badge.svg\" alt=\"Open In Colab\"/></a>"
   ]
  },
  {
   "cell_type": "markdown",
   "metadata": {
    "id": "q2XBnP5_Z0pD"
   },
   "source": [
    "**Лінійна регресія** &mdash; статистичний регресійний метод, який застосовують для моделювання взаємозв'язку між скалярною залежною змінною $\\hat{y}$ та однією або кількома незалежними змінними $\\boldsymbol X$.\n",
    "\n",
    "Наприклад, ми можемо за допомогою лінійної регресії передбачати значення неперервної залежної змінної: температуру повітря, ціну акацій, тощо, використовуючи додаткову інформацію, яка характеризує задачу і представлена  в незалежній змінній $\\boldsymbol X$. Ця додаткова інформація представляє собою набір вхідних ознак за якими буде здійснюватись моделювання.\n"
   ]
  },
  {
   "cell_type": "markdown",
   "metadata": {
    "id": "b_Lh31rnBI5b",
    "tags": [
     "graph"
    ]
   },
   "source": [
    "# Модель лінійної регресії\n",
    "\n",
    "![](https://docs.google.com/uc?export=download&id=1FAY4ZeGCJ1n14d14LtivoYDsz-LhgUpH)\n",
    "\n",
    "Метод лінійної регресії полягає у знаходженні лінійної комбінації вхідних ознак (зважена сума) з урахуванням зміщення.\n",
    "\n",
    "$$\\hat y = z = \\sum_{i=1}^m w_i x_i  + b$$\n",
    "\n",
    "\n"
   ]
  },
  {
   "cell_type": "markdown",
   "metadata": {
    "id": "sfQwoDlx-YHi"
   },
   "source": [
    "Для вирішення задачі\n",
    "\n",
    "**Дано:**\n",
    "\n",
    "- Навчальний набір: $\\{(\\boldsymbol{X}^{(1)}, y^{(1)}), (\\boldsymbol{X}^{(2)}, y^{(2)}),..., (\\boldsymbol{X}^{(n)}, y^{(n)})\\}$\n",
    "\n",
    "  - де $\\boldsymbol{X}^{(i)}$ &mdash;  $i$-й навчальний приклад. Є $m$-вимірним вектором-стовпцем $\\boldsymbol{X}^{(i)} = (x^{(i)}_1, x^{(i)}_2, ..., x^{(i)}_m)$\n",
    "  - $n$ &mdash; загальна кількість навчальних прикладів\n",
    "  - $y^{(i)}$ &mdash; дійсне цільове значення $i$-го навчального прикладу , $y^{(i)} \\in \\mathbb{R}$\n",
    "\n",
    "Модель лінійної регресії:\n",
    "\n",
    "- має вектор-рядок дійсних значень ваг $\\boldsymbol{W} = \\begin{bmatrix}\n",
    "w_1 & w_2 & \\cdots & w_m\n",
    "\\end{bmatrix}$\n",
    "- має дійсне значення зміщення $b$\n"
   ]
  },
  {
   "cell_type": "markdown",
   "metadata": {
    "id": "5wtEFeieFmwI"
   },
   "source": [
    "# Навчання\n",
    "\n",
    "Ми можемо навчити модель, використовуючи градієнтний спуск. Фактично, **градієнтний спуск** або будь-який інший алгоритм оптимізації дозволяє знайти глобальний мінімум цільової функції, якщо підбрано оптимальну швидкість навчання та виконано достатню кількість ітерацій навчання.\n",
    "\n",
    "Навчання лінійної регресії має різні етапи. На початку (крок 0) ініціалізуються параметри моделі. Інші кроки повторюються протягом певної кількості епох (навчальних ітерацій).\n",
    "\n",
    "**Крок 0:** Ініціалізувати ваги та зсув (наприклад, випадковими значеннями з нормального розподілу)\n",
    "\n",
    "**Крок 1:** Обчислити лінійну комбінацію вхідних ознак та ваг і додати зсув.  Це можна зробити за один крок для всіх навчальних прикладів, використовуючи [векторизацію (vectorization)](https://www.geeksforgeeks.org/vectorization-in-python/) та  [трансляцію (broadcasting)](https://www.geeksforgeeks.org/python-broadcasting-with-numpy-arrays/)\n",
    "\n",
    "$$\\hat y =  z = W \\cdot X + b$$\n",
    "\n",
    "де $\\cdot$ скалярний добуток (поелементний добуток), $W$ &mdash;  вектор-рядок ваг з формою $(1, m)$, $X$ &mdash; матриця форми $(m, n)$, $\\hat y$ &mdash; прогноз моделі.\n",
    "\n",
    "\n",
    "**Крок 2:** Обчислити усереднену втрату на всьому навчальному наборі даних. Функцію, яка визначає усереднені втрати на всьому навчальному наборі даних, часто називають цільовою функцією або імпіричним ризиком. Основна задача оптимізаційного алгоритму &mdash;  мінімізувати у процесі навчання цільову функцію на стільки, на скільки це можливо, не втрачаючи при цьому здатності моделі узагальнювати на нових даних. Для лінійної регресії будемо розраховувати середнє квадратичне відхилення:\n",
    "\n",
    "$$\\mathcal{J}(\\hat y,y)  = \\frac{1}{n} \\sum_{i=1}^n \\Big(\\hat{y}^{(i)} -  y^{(i)} \\Big)^2$$\n",
    "\n",
    "**Крок 3:** Розрахувати градієнти цільвої функції відносно ваг та зсуву:\n",
    "\n",
    "$$\\boxed{\\begin{aligned}\n",
    "\\frac{\\partial \\mathcal{J}(\\hat y, y)}{\\partial \\hat y} &= \\frac{2}{n} \\sum_{i=1}^n \\Big(\\hat{y}^{(i)} -  y^{(i)} \\Big)   \\\\[12pt]\n",
    "\\frac{\\partial \\mathcal{J}(\\hat y, y)}{\\partial W } = \\frac{\\partial \\mathcal{J}(\\hat y, y)}{\\partial \\hat y} \\frac{\\partial \\hat y}{\\partial W }  &= \\frac{2}{n} \\sum_{i=1}^n \\Big(\\hat{y}^{(i)} -  y^{(i)} \\Big) x^{(i)}   \\\\[12pt]\n",
    "\\frac{\\partial \\mathcal{J}(\\hat y, y)}{\\partial b} =  \\frac{\\partial \\mathcal{J}(\\hat y, y)}{\\partial \\hat y} \\frac{\\partial \\hat y}{\\partial b }&=  \\frac{2}{n} \\sum_{i=1}^n \\Big(\\hat{y}^{(i)} -  y^{(i)} \\Big)\n",
    "\\end{aligned}}$$\n",
    "\n",
    "**Крок 4:** Оновити ваги та зсув моделі:\n",
    "\n",
    "$$\\boxed{\\begin{aligned}\n",
    "W &= W - \\alpha \\frac{\\partial \\mathcal{J}(\\hat y, y)}{\\partial W} \\\\[12pt]\n",
    "b &= b - \\alpha \\frac{\\partial \\mathcal{J}(\\hat y, y)}{\\partial b}\n",
    "\\end{aligned}}$$\n",
    "\n",
    "де $\\alpha$ &mdash; швидкість навчання (крок навчання)."
   ]
  },
  {
   "cell_type": "markdown",
   "metadata": {
    "id": "WU31wxOL_iBb"
   },
   "source": [
    "# Імпортупвання бібліотек"
   ]
  },
  {
   "cell_type": "code",
   "metadata": {
    "id": "19xicNjUYyKR",
    "ExecuteTime": {
     "end_time": "2024-12-10T08:33:20.260367Z",
     "start_time": "2024-12-10T08:33:20.258143Z"
    }
   },
   "source": [
    "import numpy as np\n",
    "import matplotlib.pyplot as plt\n",
    "from sklearn.model_selection import train_test_split\n",
    "\n",
    "np.random.seed(123)"
   ],
   "outputs": [],
   "execution_count": 835
  },
  {
   "cell_type": "markdown",
   "metadata": {
    "id": "bRVwKii8_98N"
   },
   "source": [
    "## Датасет"
   ]
  },
  {
   "cell_type": "code",
   "metadata": {
    "colab": {
     "base_uri": "https://localhost:8080/",
     "height": 564
    },
    "id": "m1UzCusBypep",
    "outputId": "259bb610-0e53-4892-a450-71c13e6beb81",
    "ExecuteTime": {
     "end_time": "2024-12-10T08:33:20.358007Z",
     "start_time": "2024-12-10T08:33:20.280815Z"
    }
   },
   "source": [
    "# We will use a simple training set\n",
    "X = 2 * np.random.rand(50, 1)\n",
    "y = 3 * X + 4 + np.random.randn(50, 1)\n",
    "\n",
    "fig = plt.figure(figsize=(8,6))\n",
    "plt.scatter(X, y)\n",
    "plt.title(\"Набір даних\")\n",
    "plt.xlabel(\"$X$\")\n",
    "plt.ylabel(\"$y$\")\n",
    "plt.show()"
   ],
   "outputs": [
    {
     "data": {
      "text/plain": [
       "<Figure size 800x600 with 1 Axes>"
      ],
      "image/png": "[encoded data removed]"
     },
     "metadata": {},
     "output_type": "display_data"
    }
   ],
   "execution_count": 836
  },
  {
   "cell_type": "markdown",
   "metadata": {
    "id": "Df9GYUGXBDH9"
   },
   "source": [
    "## Поділ набору даних"
   ]
  },
  {
   "cell_type": "code",
   "metadata": {
    "colab": {
     "base_uri": "https://localhost:8080/"
    },
    "id": "y_eclhoHTp1F",
    "outputId": "779a20fd-dcaf-4fe4-9a5d-8eae29314d96",
    "ExecuteTime": {
     "end_time": "2024-12-10T08:33:20.363563Z",
     "start_time": "2024-12-10T08:33:20.361134Z"
    }
   },
   "source": [
    "# Split the data into a training and test set\n",
    "X_train, X_test, y_train, y_test = train_test_split(X, y)\n",
    "\n",
    "print(f'Shape X_train: {X_train.shape}')\n",
    "print(f'Shape y_train: {y_train.shape}')\n",
    "print(f'Shape X_test: {X_test.shape}')\n",
    "print(f'Shape y_test: {y_test.shape}')"
   ],
   "outputs": [
    {
     "name": "stdout",
     "output_type": "stream",
     "text": [
      "Shape X_train: (37, 1)\n",
      "Shape y_train: (37, 1)\n",
      "Shape X_test: (13, 1)\n",
      "Shape y_test: (13, 1)\n"
     ]
    }
   ],
   "execution_count": 837
  },
  {
   "cell_type": "code",
   "source": [
    "X_train[:,0].shape"
   ],
   "metadata": {
    "id": "afdB9_DXqXnv",
    "outputId": "df5047df-88e9-47e4-eadb-7e9416ce389b",
    "colab": {
     "base_uri": "https://localhost:8080/"
    },
    "ExecuteTime": {
     "end_time": "2024-12-10T08:33:20.379739Z",
     "start_time": "2024-12-10T08:33:20.377263Z"
    }
   },
   "outputs": [
    {
     "data": {
      "text/plain": [
       "(37,)"
      ]
     },
     "execution_count": 838,
     "metadata": {},
     "output_type": "execute_result"
    }
   ],
   "execution_count": 838
  },
  {
   "cell_type": "code",
   "source": [
    "fig = plt.figure(figsize=(8,6))\n",
    "plt.scatter(X_train, y_train)\n",
    "plt.title(\"Навчальний набір даних\")\n",
    "plt.xlabel(\"$X$\")\n",
    "plt.ylabel(\"$y$\")\n",
    "plt.show()"
   ],
   "metadata": {
    "id": "RhLuGhJxHwdc",
    "outputId": "fb0ca123-18b4-4876-c014-610a2f4fc212",
    "colab": {
     "base_uri": "https://localhost:8080/",
     "height": 564
    },
    "ExecuteTime": {
     "end_time": "2024-12-10T08:33:20.464007Z",
     "start_time": "2024-12-10T08:33:20.390124Z"
    }
   },
   "outputs": [
    {
     "data": {
      "text/plain": [
       "<Figure size 800x600 with 1 Axes>"
      ],
      "image/png": "[encoded data removed]"
     },
     "metadata": {},
     "output_type": "display_data"
    }
   ],
   "execution_count": 839
  },
  {
   "cell_type": "code",
   "source": [
    "coef = np.polyfit(X_train[:,0], y_train[:,0], 1)\n",
    "poly1d_fn = np.poly1d(coef)  # to create a linear function with coefficients\n",
    "up = poly1d_fn(X_train[:,0]) - y_train[:,0] > 0\n",
    "low= poly1d_fn(X_train[:,0]) - y_train[:,0] < 0\n",
    "\n",
    "fig = plt.figure(figsize=(8,6))\n",
    "plt.errorbar(X_train[:,0], poly1d_fn(X_train[:,0]), yerr=abs(poly1d_fn(X_train[:,0]) - y_train[:,0]),  lolims=low, uplims = up, fmt='.k')\n",
    "plt.plot(X_train[:,0], y_train[:,0], 'o', X_train[:,0], poly1d_fn(X_train[:,0]), '-r')\n",
    "# plt.scatter(X_train, y_train)\n",
    "plt.title(\"Навчальний набір даних\")\n",
    "plt.xlabel(\"$X$\")\n",
    "plt.ylabel(\"$y$\")\n",
    "plt.show()"
   ],
   "metadata": {
    "colab": {
     "base_uri": "https://localhost:8080/",
     "height": 564
    },
    "id": "vrYpWAibdMVC",
    "outputId": "e27f3167-26ca-4fba-e2dd-44b7835d9757",
    "ExecuteTime": {
     "end_time": "2024-12-10T08:33:20.551152Z",
     "start_time": "2024-12-10T08:33:20.473656Z"
    }
   },
   "outputs": [
    {
     "data": {
      "text/plain": [
       "<Figure size 800x600 with 1 Axes>"
      ],
      "image/png": "[encoded data removed]"
     },
     "metadata": {},
     "output_type": "display_data"
    }
   ],
   "execution_count": 840
  },
  {
   "cell_type": "code",
   "source": [
    "fig = plt.figure(figsize=(8,6))\n",
    "plt.scatter(X_test, y_test)\n",
    "plt.title(\"Тестовий набір даних\")\n",
    "plt.xlabel(\"$X$\")\n",
    "plt.ylabel(\"$y$\")\n",
    "plt.show()"
   ],
   "metadata": {
    "colab": {
     "base_uri": "https://localhost:8080/",
     "height": 564
    },
    "id": "G28koYV8ddqK",
    "outputId": "ef78f612-a93a-47f8-c184-5c93395da70b",
    "ExecuteTime": {
     "end_time": "2024-12-10T08:33:20.641214Z",
     "start_time": "2024-12-10T08:33:20.562094Z"
    }
   },
   "outputs": [
    {
     "data": {
      "text/plain": [
       "<Figure size 800x600 with 1 Axes>"
      ],
      "image/png": "[encoded data removed]"
     },
     "metadata": {},
     "output_type": "display_data"
    }
   ],
   "execution_count": 841
  },
  {
   "cell_type": "code",
   "metadata": {
    "id": "AX1vxfwdibB5",
    "ExecuteTime": {
     "end_time": "2024-12-10T08:33:20.653468Z",
     "start_time": "2024-12-10T08:33:20.651659Z"
    }
   },
   "source": [
    "n_samples, m_features = X_train.shape"
   ],
   "outputs": [],
   "execution_count": 842
  },
  {
   "cell_type": "code",
   "metadata": {
    "colab": {
     "base_uri": "https://localhost:8080/"
    },
    "id": "n5GvnD6RV4y7",
    "outputId": "71972ffa-f44d-411e-c3ce-c2cb3fd724d7",
    "ExecuteTime": {
     "end_time": "2024-12-10T08:33:20.665595Z",
     "start_time": "2024-12-10T08:33:20.663233Z"
    }
   },
   "source": [
    "n_samples"
   ],
   "outputs": [
    {
     "data": {
      "text/plain": [
       "37"
      ]
     },
     "execution_count": 843,
     "metadata": {},
     "output_type": "execute_result"
    }
   ],
   "execution_count": 843
  },
  {
   "cell_type": "code",
   "metadata": {
    "colab": {
     "base_uri": "https://localhost:8080/"
    },
    "id": "1IobjfGIV_Zl",
    "outputId": "000b51db-08f1-44ad-acc9-380c0ca1bf3a",
    "ExecuteTime": {
     "end_time": "2024-12-10T08:33:20.677891Z",
     "start_time": "2024-12-10T08:33:20.675311Z"
    }
   },
   "source": [
    "m_features"
   ],
   "outputs": [
    {
     "data": {
      "text/plain": [
       "1"
      ]
     },
     "execution_count": 844,
     "metadata": {},
     "output_type": "execute_result"
    }
   ],
   "execution_count": 844
  },
  {
   "cell_type": "markdown",
   "metadata": {
    "id": "LKNT3Y2TWMMV"
   },
   "source": [
    "## Змінюємо форму $X$ та $y$ обох вибірок\n",
    "$X = \\text{X_train}$, 𝑋 — матриця форми (𝑚, 𝑛)."
   ]
  },
  {
   "cell_type": "code",
   "metadata": {
    "id": "Prp2FmnXXFGO",
    "ExecuteTime": {
     "end_time": "2024-12-10T08:33:20.689709Z",
     "start_time": "2024-12-10T08:33:20.687943Z"
    }
   },
   "source": [
    "X_train = X_train.reshape((m_features, n_samples))"
   ],
   "outputs": [],
   "execution_count": 845
  },
  {
   "cell_type": "code",
   "metadata": {
    "colab": {
     "base_uri": "https://localhost:8080/"
    },
    "id": "AUGjA27pSjYe",
    "outputId": "57b25f7e-655d-46cd-bb1b-2c470080711f",
    "ExecuteTime": {
     "end_time": "2024-12-10T08:33:20.701477Z",
     "start_time": "2024-12-10T08:33:20.699325Z"
    }
   },
   "source": [
    "X_train.shape"
   ],
   "outputs": [
    {
     "data": {
      "text/plain": [
       "(1, 37)"
      ]
     },
     "execution_count": 846,
     "metadata": {},
     "output_type": "execute_result"
    }
   ],
   "execution_count": 846
  },
  {
   "cell_type": "code",
   "metadata": {
    "id": "iSTdZFc4e3Ge",
    "ExecuteTime": {
     "end_time": "2024-12-10T08:33:20.713007Z",
     "start_time": "2024-12-10T08:33:20.711319Z"
    }
   },
   "source": [
    "X_test = X_test.reshape((X_test.shape[1], X_test.shape[0]))"
   ],
   "outputs": [],
   "execution_count": 847
  },
  {
   "cell_type": "code",
   "metadata": {
    "colab": {
     "base_uri": "https://localhost:8080/"
    },
    "id": "4KWmQx2PfP9i",
    "outputId": "629bafb8-dd63-4225-9338-b46c3a6313ce",
    "ExecuteTime": {
     "end_time": "2024-12-10T08:33:20.724334Z",
     "start_time": "2024-12-10T08:33:20.722164Z"
    }
   },
   "source": [
    "X_test.shape"
   ],
   "outputs": [
    {
     "data": {
      "text/plain": [
       "(1, 13)"
      ]
     },
     "execution_count": 848,
     "metadata": {},
     "output_type": "execute_result"
    }
   ],
   "execution_count": 848
  },
  {
   "cell_type": "code",
   "metadata": {
    "id": "kzcvCcH4Snws",
    "ExecuteTime": {
     "end_time": "2024-12-10T08:33:20.735876Z",
     "start_time": "2024-12-10T08:33:20.734175Z"
    }
   },
   "source": [
    "y_train = y_train.reshape((m_features,n_samples))"
   ],
   "outputs": [],
   "execution_count": 849
  },
  {
   "cell_type": "code",
   "metadata": {
    "colab": {
     "base_uri": "https://localhost:8080/"
    },
    "id": "aZoaATzXS15a",
    "outputId": "7626f0a7-6f1e-44bb-a888-30e445b4d7d2",
    "ExecuteTime": {
     "end_time": "2024-12-10T08:33:20.747938Z",
     "start_time": "2024-12-10T08:33:20.745574Z"
    }
   },
   "source": [
    "y_train.shape"
   ],
   "outputs": [
    {
     "data": {
      "text/plain": [
       "(1, 37)"
      ]
     },
     "execution_count": 850,
     "metadata": {},
     "output_type": "execute_result"
    }
   ],
   "execution_count": 850
  },
  {
   "cell_type": "code",
   "metadata": {
    "id": "6KwrnTB3e0nM",
    "ExecuteTime": {
     "end_time": "2024-12-10T08:33:20.759603Z",
     "start_time": "2024-12-10T08:33:20.757739Z"
    }
   },
   "source": [
    "y_test = y_test.reshape((y_test.shape[1], y_test.shape[0]))"
   ],
   "outputs": [],
   "execution_count": 851
  },
  {
   "cell_type": "code",
   "metadata": {
    "colab": {
     "base_uri": "https://localhost:8080/"
    },
    "id": "8qQ-YAoMfayB",
    "outputId": "e8f776de-6f75-4300-ba13-72af4020e620",
    "ExecuteTime": {
     "end_time": "2024-12-10T08:33:20.771485Z",
     "start_time": "2024-12-10T08:33:20.769215Z"
    }
   },
   "source": [
    "y_test.shape"
   ],
   "outputs": [
    {
     "data": {
      "text/plain": [
       "(1, 13)"
      ]
     },
     "execution_count": 852,
     "metadata": {},
     "output_type": "execute_result"
    }
   ],
   "execution_count": 852
  },
  {
   "cell_type": "markdown",
   "metadata": {
    "id": "Qpq48noEKJgY"
   },
   "source": [
    "### Крок 0: Ініціалізувати ваги та зсув"
   ]
  },
  {
   "cell_type": "code",
   "metadata": {
    "id": "bfkqaTCL27hF",
    "tags": [
     "parameters_inititalization"
    ],
    "ExecuteTime": {
     "end_time": "2024-12-10T08:33:20.783284Z",
     "start_time": "2024-12-10T08:33:20.781112Z"
    }
   },
   "source": [
    "def parameters_inititalization(m):\n",
    "  \"\"\"\n",
    "  Ця функція ініціалізує вектор-рядок випадкових дійсних значень ваг форми (1, m),\n",
    "  отриманих з нормального розподілу та зсув (довільне дійсне значення)\n",
    "\n",
    "  Параметри:\n",
    "  m -- кількість вхідних ознак для кожного навчального прикладу\n",
    "\n",
    "  Повертає:\n",
    "  W -- вектор-рядок ваг форми (1, m)\n",
    "  b -- зсув (скаляр)\n",
    "  \"\"\"\n",
    "\n",
    "  # BEGIN_YOUR_CODE\n",
    "  W = np.random.randn(m, 1)\n",
    "  b = 0\n",
    "\n",
    "  return W, b\n",
    "  # END_YOUR_CODE"
   ],
   "outputs": [],
   "execution_count": 853
  },
  {
   "cell_type": "code",
   "metadata": {
    "id": "Cjoi0Pi0eIl9",
    "ExecuteTime": {
     "end_time": "2024-12-10T08:33:20.794609Z",
     "start_time": "2024-12-10T08:33:20.792850Z"
    }
   },
   "source": [
    "m_features\n",
    "W, b = parameters_inititalization(m_features)"
   ],
   "outputs": [],
   "execution_count": 854
  },
  {
   "cell_type": "code",
   "metadata": {
    "colab": {
     "base_uri": "https://localhost:8080/"
    },
    "id": "Z_nNfaRGdLGO",
    "outputId": "a1129741-38a6-4dc2-f75d-2dbe1b1ddceb",
    "ExecuteTime": {
     "end_time": "2024-12-10T08:33:20.806953Z",
     "start_time": "2024-12-10T08:33:20.804619Z"
    }
   },
   "source": [
    "W"
   ],
   "outputs": [
    {
     "data": {
      "text/plain": [
       "array([[-0.31048223]])"
      ]
     },
     "execution_count": 855,
     "metadata": {},
     "output_type": "execute_result"
    }
   ],
   "execution_count": 855
  },
  {
   "cell_type": "code",
   "metadata": {
    "colab": {
     "base_uri": "https://localhost:8080/"
    },
    "id": "AVUfQgU3dRoj",
    "outputId": "4fb17e58-797f-49dd-8cc0-2c5a2ed8a683",
    "ExecuteTime": {
     "end_time": "2024-12-10T08:33:20.841813Z",
     "start_time": "2024-12-10T08:33:20.839234Z"
    }
   },
   "source": [
    "W.shape"
   ],
   "outputs": [
    {
     "data": {
      "text/plain": [
       "(1, 1)"
      ]
     },
     "execution_count": 856,
     "metadata": {},
     "output_type": "execute_result"
    }
   ],
   "execution_count": 856
  },
  {
   "cell_type": "code",
   "metadata": {
    "colab": {
     "base_uri": "https://localhost:8080/"
    },
    "id": "PGyt_i05dT_r",
    "outputId": "00ed991d-8be5-460a-8473-15dae8f16ec9",
    "ExecuteTime": {
     "end_time": "2024-12-10T08:33:20.873156Z",
     "start_time": "2024-12-10T08:33:20.870854Z"
    }
   },
   "source": [
    "b"
   ],
   "outputs": [
    {
     "data": {
      "text/plain": [
       "0"
      ]
     },
     "execution_count": 857,
     "metadata": {},
     "output_type": "execute_result"
    }
   ],
   "execution_count": 857
  },
  {
   "cell_type": "markdown",
   "metadata": {
    "id": "SMLPcw7gNZ1d"
   },
   "source": [
    "\n",
    "\n",
    "### Крок 1: Обчислити лінійну комбінацію вхідних ознак та ваг, включаючи зсув\n",
    "\n"
   ]
  },
  {
   "cell_type": "code",
   "metadata": {
    "id": "sHg5Sh8bdV3J",
    "tags": [
     "forwardPropagate"
    ],
    "ExecuteTime": {
     "end_time": "2024-12-10T08:33:20.878593Z",
     "start_time": "2024-12-10T08:33:20.876665Z"
    }
   },
   "source": [
    "def forwardPropagate(X, W, b):\n",
    "  \"\"\"\n",
    "  Ця функція обчислює лінійну комбінацію вхідних ознак та ваг, включаючи зсув\n",
    "\n",
    "  Параметри:\n",
    "  X -- вхідний вектор ознак форми (m, X_train.shape[1])\n",
    "  W -- вектор-рядок ваг форми (1, m)\n",
    "  b -- зсув моделі (скаляр)\n",
    "\n",
    "  Повертає:\n",
    "  z -- загальна зважена сума вхідних ознак, включаючи зсув\n",
    "  y_hat -- прогноз моделі\n",
    "  \"\"\"\n",
    "\n",
    "  # BEGIN_YOUR_CODE\n",
    "  z = np.dot(W, X) + b\n",
    "  y_hat = z\n",
    "  return z, y_hat\n",
    "  # END_YOUR_CODE"
   ],
   "outputs": [],
   "execution_count": 858
  },
  {
   "cell_type": "code",
   "metadata": {
    "id": "94IMy1_2dfuQ",
    "ExecuteTime": {
     "end_time": "2024-12-10T08:33:20.891944Z",
     "start_time": "2024-12-10T08:33:20.890386Z"
    }
   },
   "source": [
    "z, y_hat = forwardPropagate(X_train, W, b)"
   ],
   "outputs": [],
   "execution_count": 859
  },
  {
   "cell_type": "code",
   "metadata": {
    "colab": {
     "base_uri": "https://localhost:8080/"
    },
    "id": "JF67K5RJiEux",
    "outputId": "3d31806f-4d83-4825-ecd6-7ad592069116",
    "ExecuteTime": {
     "end_time": "2024-12-10T08:33:20.903976Z",
     "start_time": "2024-12-10T08:33:20.901650Z"
    }
   },
   "source": [
    "z"
   ],
   "outputs": [
    {
     "data": {
      "text/plain": [
       "array([[-0.29864162, -0.43248262, -0.19702301, -0.07179491, -0.44676466,\n",
       "        -0.11332088, -0.44986101, -0.52746696, -0.20054601, -0.38058572,\n",
       "        -0.25759234, -0.03705785, -0.26755047, -0.21310135, -0.26931302,\n",
       "        -0.5379472 , -0.18238599, -0.2246579 , -0.45271396, -0.29994711,\n",
       "        -0.15552388, -0.24349104, -0.14174335, -0.58628982, -0.19390312,\n",
       "        -0.33007451, -0.14086669, -0.55476292, -0.6119976 , -0.26273408,\n",
       "        -0.3225818 , -0.44861167, -0.10894931, -0.34234688, -0.3065609 ,\n",
       "        -0.37942389, -0.24717134]])"
      ]
     },
     "execution_count": 860,
     "metadata": {},
     "output_type": "execute_result"
    }
   ],
   "execution_count": 860
  },
  {
   "cell_type": "code",
   "metadata": {
    "colab": {
     "base_uri": "https://localhost:8080/"
    },
    "id": "AqFrM7SwOatT",
    "outputId": "8094a196-15f3-4c2a-97b0-12e86535a6f2",
    "ExecuteTime": {
     "end_time": "2024-12-10T08:33:20.939175Z",
     "start_time": "2024-12-10T08:33:20.936737Z"
    }
   },
   "source": [
    "y_hat.shape"
   ],
   "outputs": [
    {
     "data": {
      "text/plain": [
       "(1, 37)"
      ]
     },
     "execution_count": 861,
     "metadata": {},
     "output_type": "execute_result"
    }
   ],
   "execution_count": 861
  },
  {
   "cell_type": "markdown",
   "metadata": {
    "id": "I1L7RqCHOShJ"
   },
   "source": [
    "### Крок 2: Обчислити усереднену втрату на всьому навчальному наборі даних. Цільова функція\n",
    "\n"
   ]
  },
  {
   "cell_type": "code",
   "metadata": {
    "id": "YM5DZaGIl-ei",
    "tags": [
     "cost"
    ],
    "ExecuteTime": {
     "end_time": "2024-12-10T08:33:20.970108Z",
     "start_time": "2024-12-10T08:33:20.967747Z"
    }
   },
   "source": [
    "def cost(n, y_hat, y_true):\n",
    "  \"\"\"\n",
    "  Ця функція обчислює середнє квадратичне відхилення на всьому навчальному наборі даних\n",
    "\n",
    "  Параметри:\n",
    "  n -- загальна кількість навчальних прикладів\n",
    "  y_hat -- вихідне значення лінійної регресії\n",
    "  y_true -- істинне значення залежної змінної\n",
    "\n",
    "  Повертає:\n",
    "  J -- середнє квадратичне відхилення на всьому навчальному наборі даних\n",
    "  \"\"\"\n",
    "\n",
    "  # BEGIN_YOUR_CODE\n",
    "  y_true = np.array(y_true).flatten()\n",
    "  y_hat = np.array(y_hat).flatten()\n",
    "\n",
    "  J = np.mean((y_hat - y_true) ** 2)\n",
    "\n",
    "  return float(J)\n",
    "  # END_YOUR_CODE"
   ],
   "outputs": [],
   "execution_count": 862
  },
  {
   "cell_type": "code",
   "metadata": {
    "colab": {
     "base_uri": "https://localhost:8080/"
    },
    "id": "GVuroIbum_4L",
    "outputId": "c8c75187-a225-4f13-85d7-33fb16a9ba6a",
    "ExecuteTime": {
     "end_time": "2024-12-10T08:33:20.984264Z",
     "start_time": "2024-12-10T08:33:20.981670Z"
    }
   },
   "source": [
    "J = cost(n_samples, y_hat, y_train)\n",
    "J"
   ],
   "outputs": [
    {
     "data": {
      "text/plain": [
       "57.46077808913447"
      ]
     },
     "execution_count": 863,
     "metadata": {},
     "output_type": "execute_result"
    }
   ],
   "execution_count": 863
  },
  {
   "cell_type": "markdown",
   "metadata": {
    "id": "bapG8TtdP4gK"
   },
   "source": [
    "### Крок 3: Розрахувати градієнти цільвої функції відносно ваг та зсуву"
   ]
  },
  {
   "cell_type": "code",
   "metadata": {
    "id": "9K-Vn0mpiGng",
    "tags": [
     "backwardPropagate"
    ],
    "ExecuteTime": {
     "end_time": "2024-12-10T08:33:21.009024Z",
     "start_time": "2024-12-10T08:33:21.006452Z"
    }
   },
   "source": [
    "def backwardPropagate(n, X, y_hat, y_true):\n",
    "  \"\"\"\n",
    "  Ця функція обчислює градієнти цільвої функції відносно ваг та зсуву\n",
    "\n",
    "  Параметри:\n",
    "  n -- загальна кількість навчальних прикладів\n",
    "  X -- вхідний вектор ознак форми (1, X_train.shape[1])\n",
    "  y_hat --  вихідне значення лінійної регресії\n",
    "  y_true -- істинне значення залежної змінної\n",
    "\n",
    "  Повертає:\n",
    "  dW --  градієнт цільової функції відносно ваг моделі\n",
    "  db -- градієнт цільової функції відносно зсуву моделі\n",
    "  \"\"\"\n",
    "\n",
    "  # BEGIN_YOUR_CODE\n",
    "\n",
    "  # Різниця прогнозів та істинних значень\n",
    "  diff = y_hat - y_true  # (y_hat^(i) - y^(i))\n",
    "\n",
    "  # Обчислення градієнта відносно ваг\n",
    "  # dJ/dW = (2/n) * sum((y_hat^(i) - y^(i)) * x^(i))\n",
    "  dW = (2/n) * np.sum(diff * X)\n",
    "\n",
    "  # Обчислення градієнта відносно зсуву\n",
    "  # dJ/db = (2/n) * sum(y_hat^(i) - y^(i))\n",
    "  db = (2/n) * np.sum(diff)\n",
    "\n",
    "  return dW, db\n",
    "\n",
    "  # END_YOUR_CODE"
   ],
   "outputs": [],
   "execution_count": 864
  },
  {
   "cell_type": "code",
   "metadata": {
    "id": "VirkpmD0o-1Q",
    "ExecuteTime": {
     "end_time": "2024-12-10T08:33:21.020925Z",
     "start_time": "2024-12-10T08:33:21.019066Z"
    }
   },
   "source": [
    "dW, db = backwardPropagate(n_samples, X_train, y_hat, y_train)"
   ],
   "outputs": [],
   "execution_count": 865
  },
  {
   "cell_type": "code",
   "metadata": {
    "colab": {
     "base_uri": "https://localhost:8080/"
    },
    "id": "z-nQYn1tqNRo",
    "outputId": "42a79fc7-126d-437f-84ae-ff6435fdc6b7",
    "ExecuteTime": {
     "end_time": "2024-12-10T08:33:21.033029Z",
     "start_time": "2024-12-10T08:33:21.030461Z"
    }
   },
   "source": [
    "dW"
   ],
   "outputs": [
    {
     "data": {
      "text/plain": [
       "np.float64(-15.818407031912626)"
      ]
     },
     "execution_count": 866,
     "metadata": {},
     "output_type": "execute_result"
    }
   ],
   "execution_count": 866
  },
  {
   "cell_type": "code",
   "metadata": {
    "colab": {
     "base_uri": "https://localhost:8080/"
    },
    "id": "aLjgo0GdpMx0",
    "outputId": "7d4e4901-7275-4510-adf0-08987a588f7e",
    "ExecuteTime": {
     "end_time": "2024-12-10T08:33:21.045793Z",
     "start_time": "2024-12-10T08:33:21.043357Z"
    }
   },
   "source": [
    "dW.shape"
   ],
   "outputs": [
    {
     "data": {
      "text/plain": [
       "()"
      ]
     },
     "execution_count": 867,
     "metadata": {},
     "output_type": "execute_result"
    }
   ],
   "execution_count": 867
  },
  {
   "cell_type": "code",
   "metadata": {
    "colab": {
     "base_uri": "https://localhost:8080/"
    },
    "id": "8ZBTCeXdqFJA",
    "outputId": "40e7d8c6-60c7-4af9-9440-d7d61f6b4c01",
    "ExecuteTime": {
     "end_time": "2024-12-10T08:33:21.057762Z",
     "start_time": "2024-12-10T08:33:21.055441Z"
    }
   },
   "source": [
    "db"
   ],
   "outputs": [
    {
     "data": {
      "text/plain": [
       "np.float64(-14.703872110081507)"
      ]
     },
     "execution_count": 868,
     "metadata": {},
     "output_type": "execute_result"
    }
   ],
   "execution_count": 868
  },
  {
   "cell_type": "code",
   "metadata": {
    "colab": {
     "base_uri": "https://localhost:8080/"
    },
    "id": "DAkVSaLesD_8",
    "outputId": "22f18cd2-0456-47ff-af4e-bf303961df1d",
    "ExecuteTime": {
     "end_time": "2024-12-10T08:33:21.069814Z",
     "start_time": "2024-12-10T08:33:21.067266Z"
    }
   },
   "source": [
    "db.shape"
   ],
   "outputs": [
    {
     "data": {
      "text/plain": [
       "()"
      ]
     },
     "execution_count": 869,
     "metadata": {},
     "output_type": "execute_result"
    }
   ],
   "execution_count": 869
  },
  {
   "cell_type": "markdown",
   "metadata": {
    "id": "7wzrFBQPSfL5"
   },
   "source": [
    "### Крок 4: Оновити ваги та зсув"
   ]
  },
  {
   "cell_type": "code",
   "metadata": {
    "id": "SwacLBbFsKHZ",
    "tags": [
     "update"
    ],
    "ExecuteTime": {
     "end_time": "2024-12-10T08:33:21.081869Z",
     "start_time": "2024-12-10T08:33:21.079808Z"
    }
   },
   "source": [
    "def update(alpha, dW, db, W, b):\n",
    "  \"\"\"\n",
    "  Ця функція оновлює навчальні параметри моделі (ваги та зсув ) у напрямку мінімізації цільової функції\n",
    "\n",
    "  Параметри:\n",
    "  alpha -- швидкість  навчання (крок навчання)\n",
    "  dW --  градієнт цільової функції відносно ваг моделі\n",
    "  db -- градієнт цільової функції відносно зсуву моделі\n",
    "  W -- вектор-рядок ваг моделі форми (1, m)\n",
    "  b -- зсув моделі (скаляр)\n",
    "\n",
    "  Повертає:\n",
    "  W -- оновлений вектор-рядок ваг моделі форми (1, m)\n",
    "  b -- оновлений зсув моделі (скаляр)\n",
    "  \"\"\"\n",
    "\n",
    "\n",
    "  # BEGIN_YOUR_CODE\n",
    "  W = W - alpha * dW\n",
    "  b = b - alpha * db\n",
    "  return W, float(b)\n",
    "  # END_YOUR_CODE"
   ],
   "outputs": [],
   "execution_count": 870
  },
  {
   "cell_type": "code",
   "metadata": {
    "id": "7f-dOng9tKRy",
    "ExecuteTime": {
     "end_time": "2024-12-10T08:33:21.093205Z",
     "start_time": "2024-12-10T08:33:21.091621Z"
    }
   },
   "source": [
    "W, b = update(0.0001, dW, db, W, b)"
   ],
   "outputs": [],
   "execution_count": 871
  },
  {
   "cell_type": "code",
   "metadata": {
    "colab": {
     "base_uri": "https://localhost:8080/"
    },
    "id": "X681Y8JatVAi",
    "outputId": "04e0b414-fd10-4bc2-8839-f90f105cd443",
    "ExecuteTime": {
     "end_time": "2024-12-10T08:33:21.104314Z",
     "start_time": "2024-12-10T08:33:21.102256Z"
    }
   },
   "source": [
    "W"
   ],
   "outputs": [
    {
     "data": {
      "text/plain": [
       "array([[-0.30890039]])"
      ]
     },
     "execution_count": 872,
     "metadata": {},
     "output_type": "execute_result"
    }
   ],
   "execution_count": 872
  },
  {
   "cell_type": "code",
   "metadata": {
    "colab": {
     "base_uri": "https://localhost:8080/"
    },
    "id": "oWrWtkXhtWl4",
    "outputId": "caad0177-6ac6-4968-b033-e1d7e97cc679",
    "ExecuteTime": {
     "end_time": "2024-12-10T08:33:21.137416Z",
     "start_time": "2024-12-10T08:33:21.134665Z"
    }
   },
   "source": [
    "b"
   ],
   "outputs": [
    {
     "data": {
      "text/plain": [
       "0.0014703872110081507"
      ]
     },
     "execution_count": 873,
     "metadata": {},
     "output_type": "execute_result"
    }
   ],
   "execution_count": 873
  },
  {
   "cell_type": "markdown",
   "metadata": {
    "id": "YdljmLW8ljv0"
   },
   "source": [
    "# Клас лінійної регресії"
   ]
  },
  {
   "cell_type": "code",
   "metadata": {
    "id": "ULkK4_oGK5AP",
    "ExecuteTime": {
     "end_time": "2024-12-10T08:33:21.169503Z",
     "start_time": "2024-12-10T08:33:21.166382Z"
    }
   },
   "source": [
    "class LinearRegression:\n",
    "\n",
    "  def __init__(self):\n",
    "      pass\n",
    "  def train_model(self, X, y, alpha=0.01, n_iters=100):\n",
    "    \"\"\"\n",
    "    Trains a linear regression model using gradient descent\n",
    "    \"\"\"\n",
    "    # Step 0: Initialize the parameters\n",
    "    n_features, n_samples = X.shape\n",
    "    self.W, self.b = parameters_inititalization(n_features)\n",
    "    costs = []\n",
    "    for i in range(n_iters):\n",
    "      # Step 1: Compute a linear combination of the input features and weights\n",
    "      z, y_hat = forwardPropagate(X_train, self.W, self.b)\n",
    "      # Step 2: Compute cost over training set\n",
    "      J = cost(n_samples, y_hat, y_train)\n",
    "      costs.append(J)\n",
    "      if i % 20 == 0:\n",
    "        print(f\"Усереднена втрата моделі на ітерації {i}: {J}\")\n",
    "      # Step 3: Compute the gradients\n",
    "      dW, db = backwardPropagate(n_samples, X_train, y_hat, y_train)\n",
    "      # Step 4: Update the parameters\n",
    "      self.W, self.b = update(alpha, dW, db, self.W, self.b)\n",
    "    return self.W, self.b, costs\n",
    "  def predict(self, X):\n",
    "    return np.dot(self.W, X) + self.b\n",
    "\n",
    "  def evaluate(self, X, y):\n",
    "      return 1 / X.shape[1] * np.sum(((np.dot(self.W, X) + self.b) - y)**2)"
   ],
   "outputs": [],
   "execution_count": 874
  },
  {
   "cell_type": "code",
   "metadata": {
    "colab": {
     "base_uri": "https://localhost:8080/",
     "height": 911
    },
    "id": "lrAKvTbRLMJ8",
    "outputId": "b2865a0f-1dc2-44fb-ed90-866dc9765e53",
    "ExecuteTime": {
     "end_time": "2024-12-10T08:33:21.255463Z",
     "start_time": "2024-12-10T08:33:21.171788Z"
    }
   },
   "source": [
    "regressor = LinearRegression()\n",
    "w_trained, b_trained, costs = regressor.train_model(X_train, y_train, alpha=0.025, n_iters=400)\n",
    "\n",
    "fig = plt.figure(figsize=(8,6))\n",
    "plt.plot(np.arange(400), costs)\n",
    "plt.title(\"Зміна втрат моделі у ході навчання\")\n",
    "plt.xlabel(\"Кількість ітерацій\")\n",
    "plt.ylabel(\"Втрати\")\n",
    "plt.show()\n"
   ],
   "outputs": [
    {
     "name": "stdout",
     "output_type": "stream",
     "text": [
      "Усереднена втрата моделі на ітерації 0: 48.02547900804167\n",
      "Усереднена втрата моделі на ітерації 20: 1.9074169665685659\n",
      "Усереднена втрата моделі на ітерації 40: 1.2945316207306579\n",
      "Усереднена втрата моделі на ітерації 60: 1.2585151316073193\n",
      "Усереднена втрата моделі на ітерації 80: 1.235303000071176\n",
      "Усереднена втрата моделі на ітерації 100: 1.2167322560080063\n",
      "Усереднена втрата моделі на ітерації 120: 1.2018184744273142\n",
      "Усереднена втрата моделі на ітерації 140: 1.1898408154694498\n",
      "Усереднена втрата моделі на ітерації 160: 1.1802212266558663\n",
      "Усереднена втрата моделі на ітерації 180: 1.1724954690099676\n",
      "Усереднена втрата моделі на ітерації 200: 1.166290699515843\n",
      "Усереднена втрата моделі на ітерації 220: 1.1613074776442889\n",
      "Усереднена втрата моделі на ітерації 240: 1.1573053144302259\n",
      "Усереднена втрата моделі на ітерації 260: 1.1540910665390307\n",
      "Усереднена втрата моделі на ітерації 280: 1.1515096152204658\n",
      "Усереднена втрата моделі на ітерації 300: 1.1494363803189593\n",
      "Усереднена втрата моделі на ітерації 320: 1.1477713080683565\n",
      "Усереднена втрата моделі на ітерації 340: 1.1464340425237174\n",
      "Усереднена втрата моделі на ітерації 360: 1.1453600476047392\n",
      "Усереднена втрата моделі на ітерації 380: 1.1444974926016476\n"
     ]
    },
    {
     "data": {
      "text/plain": [
       "<Figure size 800x600 with 1 Axes>"
      ],
      "image/png": "[encoded data removed]"
     },
     "metadata": {},
     "output_type": "display_data"
    }
   ],
   "execution_count": 875
  },
  {
   "cell_type": "markdown",
   "source": [
    "# Вивчені коефіцієнти: $ W$ та $b$\n",
    "\n",
    "На початку ми згенерували вибірку за правилом: `y = 3 * X + 4 + np.random.randn(100, 1)`"
   ],
   "metadata": {
    "id": "pFEDdRYLjyZj"
   }
  },
  {
   "cell_type": "code",
   "source": [
    "w_trained"
   ],
   "metadata": {
    "id": "o_xeV0Mhjs-i",
    "outputId": "d86d3d71-a21e-4f1f-f3bd-170f7ebd94af",
    "colab": {
     "base_uri": "https://localhost:8080/"
    },
    "ExecuteTime": {
     "end_time": "2024-12-10T08:33:21.269043Z",
     "start_time": "2024-12-10T08:33:21.266278Z"
    }
   },
   "outputs": [
    {
     "data": {
      "text/plain": [
       "array([[2.96079888]])"
      ]
     },
     "execution_count": 876,
     "metadata": {},
     "output_type": "execute_result"
    }
   ],
   "execution_count": 876
  },
  {
   "cell_type": "code",
   "source": [
    "b_trained"
   ],
   "metadata": {
    "id": "VElU2w6ejtUB",
    "outputId": "d9899d73-53b2-4049-dcf3-cf3294fb4622",
    "colab": {
     "base_uri": "https://localhost:8080/"
    },
    "ExecuteTime": {
     "end_time": "2024-12-10T08:33:21.304492Z",
     "start_time": "2024-12-10T08:33:21.302017Z"
    }
   },
   "outputs": [
    {
     "data": {
      "text/plain": [
       "4.138864122253526"
      ]
     },
     "execution_count": 877,
     "metadata": {},
     "output_type": "execute_result"
    }
   ],
   "execution_count": 877
  },
  {
   "cell_type": "code",
   "source": [
    "# Plot the trained model\n",
    "\n",
    "fig = plt.figure(figsize=(8,6))\n",
    "\n",
    "plt.scatter(X_train, y_train)\n",
    "x = np.linspace(0, 2, 100)\n",
    "x = x.reshape((x.shape[0], 1))\n",
    "y_trained = w_trained * x + b_trained\n",
    "plt.plot(x, y_trained, color='red')\n",
    "plt.xlabel(\"$X$\")\n",
    "plt.ylabel(\"$y$\")\n",
    "plt.legend([\"Навчальний набір даних\" , \"Прогноз моделі\"])\n",
    "plt.show()"
   ],
   "metadata": {
    "id": "Q2iJAzmijnzr",
    "outputId": "c8a748eb-b70d-459b-c402-937a7e1aae09",
    "colab": {
     "base_uri": "https://localhost:8080/",
     "height": 542
    },
    "ExecuteTime": {
     "end_time": "2024-12-10T08:33:21.476263Z",
     "start_time": "2024-12-10T08:33:21.333507Z"
    }
   },
   "outputs": [
    {
     "data": {
      "text/plain": [
       "<Figure size 800x600 with 1 Axes>"
      ],
      "image/png": "[encoded data removed]"
     },
     "metadata": {},
     "output_type": "display_data"
    }
   ],
   "execution_count": 878
  },
  {
   "cell_type": "markdown",
   "metadata": {
    "id": "gIIYcY-UktkQ"
   },
   "source": [
    "# Тестування моделі"
   ]
  },
  {
   "cell_type": "code",
   "metadata": {
    "id": "bILRojcaeN5J",
    "ExecuteTime": {
     "end_time": "2024-12-10T08:33:21.486821Z",
     "start_time": "2024-12-10T08:33:21.484918Z"
    }
   },
   "source": [
    "n_samples, m_features = X_test.shape\n",
    "y_hat_test = regressor.predict(X_test)"
   ],
   "outputs": [],
   "execution_count": 879
  },
  {
   "cell_type": "code",
   "metadata": {
    "colab": {
     "base_uri": "https://localhost:8080/",
     "height": 542
    },
    "id": "8fPLGyW4bYIC",
    "outputId": "9d59a61a-163d-4e2e-db0b-327c235c9643",
    "ExecuteTime": {
     "end_time": "2024-12-10T08:33:21.581771Z",
     "start_time": "2024-12-10T08:33:21.497058Z"
    }
   },
   "source": [
    "# Plot the test predictions\n",
    "\n",
    "fig = plt.figure(figsize=(8,6))\n",
    "plt.scatter(X_test, y_test)\n",
    "plt.scatter(X_test, y_hat_test)\n",
    "plt.xlabel(\"$X$\")\n",
    "plt.ylabel(\"$y$\")\n",
    "plt.legend([\"Тестовий набір даних\" , \"Прогноз моделі\"])\n",
    "plt.show()"
   ],
   "outputs": [
    {
     "data": {
      "text/plain": [
       "<Figure size 800x600 with 1 Axes>"
      ],
      "image/png": "[encoded data removed]"
     },
     "metadata": {},
     "output_type": "display_data"
    }
   ],
   "execution_count": 880
  },
  {
   "cell_type": "code",
   "source": [
    "cost_test = regressor.evaluate(X_test, y_test)\n",
    "print(f\"Усереднена втрата моделі на тестовій вибірці {cost_test}\")"
   ],
   "metadata": {
    "id": "oGxu6kf3jVmr",
    "outputId": "96cff8ce-2705-4b98-8b76-5ac68ecfbeaa",
    "colab": {
     "base_uri": "https://localhost:8080/"
    },
    "ExecuteTime": {
     "end_time": "2024-12-10T08:33:21.594733Z",
     "start_time": "2024-12-10T08:33:21.592718Z"
    }
   },
   "outputs": [
    {
     "name": "stdout",
     "output_type": "stream",
     "text": [
      "Усереднена втрата моделі на тестовій вибірці 1.4830409260522008\n"
     ]
    }
   ],
   "execution_count": 881
  },
  {
   "cell_type": "markdown",
   "metadata": {
    "id": "SwXQUYwaXwic"
   },
   "source": [
    "\n",
    "\n",
    "Завдання завершено."
   ]
  }
 ],
 "metadata": {
  "celltoolbar": "Tags",
  "colab": {
   "provenance": []
  },
  "kernelspec": {
   "display_name": "Python 3",
   "language": "python",
   "name": "python3"
  },
  "language_info": {
   "codemirror_mode": {
    "name": "ipython",
    "version": 3
   },
   "file_extension": ".py",
   "mimetype": "text/x-python",
   "name": "python",
   "nbconvert_exporter": "python",
   "pygments_lexer": "ipython3",
   "version": "3.7.3"
  }
 },
 "nbformat": 4,
 "nbformat_minor": 0
}
